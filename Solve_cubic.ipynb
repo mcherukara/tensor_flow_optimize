{
 "cells": [
  {
   "cell_type": "code",
   "execution_count": 1,
   "metadata": {},
   "outputs": [
    {
     "name": "stderr",
     "output_type": "stream",
     "text": [
      "/anaconda3/lib/python3.6/site-packages/h5py/__init__.py:36: FutureWarning: Conversion of the second argument of issubdtype from `float` to `np.floating` is deprecated. In future, it will be treated as `np.float64 == np.dtype(float).type`.\n",
      "  from ._conv import register_converters as _register_converters\n"
     ]
    }
   ],
   "source": [
    "import tensorflow as tf\n",
    "import numpy as np\n",
    "import matplotlib.pyplot as plt\n",
    "import matplotlib\n",
    "\n",
    "%matplotlib notebook\n",
    "plt.style.use('seaborn-white')\n",
    "#matplotlib.rc('xtick', labelsize=20) \n",
    "#matplotlib.rc('ytick', labelsize=20)\n",
    "matplotlib.rc('font',family='Times New Roman')\n",
    "matplotlib.rcParams['font.size'] = 20"
   ]
  },
  {
   "cell_type": "code",
   "execution_count": 23,
   "metadata": {},
   "outputs": [],
   "source": [
    "x=tf.Variable(0,dtype=tf.float32)\n",
    "#Let's solve a cubic equation: (x-3)^3=x^3+27x-9x^2-27=0\n",
    "func=x**3+27*x-9*x**2-27\n",
    "sq_err=(func-0)**2\n",
    "abs_err=np.abs(func)\n",
    "#cost=tf.gradients(ys=func,xs=[x]) #Compute the derivative of cost"
   ]
  },
  {
   "cell_type": "code",
   "execution_count": 59,
   "metadata": {},
   "outputs": [
    {
     "name": "stdout",
     "output_type": "stream",
     "text": [
      "[2.9871335, 7.6293945e-06]\n"
     ]
    }
   ],
   "source": [
    "nsteps=1000\n",
    "\n",
    "err=abs_err\n",
    "costs=np.zeros(nsteps,float)\n",
    "#train=tf.train.GradientDescentOptimizer(0.1).minimize(err)\n",
    "train=tf.train.AdamOptimizer(0.1).minimize(err)\n",
    "init = tf.global_variables_initializer() #MUST run this after choosing the optimizer so all values are initialized\n",
    "\n",
    "with tf.Session() as session: #Using this form lets Python clean up if there is an exception\n",
    "    session.run(init)\n",
    "    for i in range(nsteps):\n",
    "        costs[i]=np.asarray(session.run([train,err])[1])\n",
    "    print (session.run([x,err]))\n"
   ]
  },
  {
   "cell_type": "code",
   "execution_count": 60,
   "metadata": {},
   "outputs": [
    {
     "data": {
      "text/plain": [
       "Text(0.5,0,'Iterations')"
      ]
     },
     "execution_count": 60,
     "metadata": {},
     "output_type": "execute_result"
    },
    {
     "data": {
      "image/png": "[encoded data removed]",
      "text/plain": [
       "<Figure size 432x288 with 1 Axes>"
      ]
     },
     "metadata": {},
     "output_type": "display_data"
    }
   ],
   "source": [
    "plt.close()\n",
    "plt.plot(costs)\n",
    "plt.grid()\n",
    "plt.ylabel('Error')\n",
    "plt.xlabel('Iterations')"
   ]
  },
  {
   "cell_type": "code",
   "execution_count": 61,
   "metadata": {},
   "outputs": [
    {
     "data": {
      "text/plain": [
       "[<matplotlib.lines.Line2D at 0xb2bd2ac18>]"
      ]
     },
     "execution_count": 61,
     "metadata": {},
     "output_type": "execute_result"
    },
    {
     "data": {
      "image/png": "[encoded data removed]",
      "text/plain": [
       "<Figure size 432x288 with 1 Axes>"
      ]
     },
     "metadata": {},
     "output_type": "display_data"
    }
   ],
   "source": [
    "plt.close()\n",
    "x2=np.linspace(2.5,3.5,20)\n",
    "def y(x):\n",
    "    return x**3+27*x-9*x**2-27\n",
    "plt.plot(x2,np.abs(y(x2)))"
   ]
  },
  {
   "cell_type": "code",
   "execution_count": null,
   "metadata": {},
   "outputs": [],
   "source": []
  }
 ],
 "metadata": {
  "kernelspec": {
   "display_name": "Python 3",
   "language": "python",
   "name": "python3"
  },
  "language_info": {
   "codemirror_mode": {
    "name": "ipython",
    "version": 3
   },
   "file_extension": ".py",
   "mimetype": "text/x-python",
   "name": "python",
   "nbconvert_exporter": "python",
   "pygments_lexer": "ipython3",
   "version": "3.6.5"
  }
 },
 "nbformat": 4,
 "nbformat_minor": 2
}
